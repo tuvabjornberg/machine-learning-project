{
 "cells": [
  {
   "cell_type": "code",
   "execution_count": 24,
   "metadata": {},
   "outputs": [],
   "source": [
    "from sklearn.model_selection import train_test_split, cross_val_score\n",
    "from sklearn.linear_model import LinearRegression, LogisticRegression\n",
    "from sklearn.ensemble import RandomForestRegressor\n",
    "from sklearn.neighbors import KNeighborsRegressor\n",
    "from sklearn.tree import DecisionTreeRegressor\n",
    "from sklearn.svm import SVR, LinearSVR\n",
    "from sklearn.metrics import r2_score, accuracy_score\n",
    "from pyspark.sql import SparkSession\n",
    "import pandas as pd\n",
    "from pandas.api.types import is_numeric_dtype as is_num\n",
    "import numpy as np\n",
    "import matplotlib.pyplot as plt"
   ]
  },
  {
   "cell_type": "code",
   "execution_count": 2,
   "metadata": {},
   "outputs": [],
   "source": [
    "spark = SparkSession.builder.appName(\"AIProject\").config(\"spark.driver.memory\", \"8g\").getOrCreate()\n",
    "data_frame = spark.read.csv('./datasets/training_dataset.csv', header=True, inferSchema=True)\n",
    "df = data_frame.limit(50000).toPandas()"
   ]
  },
  {
   "cell_type": "code",
   "execution_count": null,
   "metadata": {},
   "outputs": [
    {
     "name": "stderr",
     "output_type": "stream",
     "text": [
      "C:\\Users\\William\\AppData\\Local\\Temp\\ipykernel_27180\\3064335696.py:3: FutureWarning: A value is trying to be set on a copy of a DataFrame or Series through chained assignment using an inplace method.\n",
      "The behavior will change in pandas 3.0. This inplace method will never work because the intermediate object on which we are setting values always behaves as a copy.\n",
      "\n",
      "For example, when doing 'df[col].method(value, inplace=True)', try using 'df.method({col: value}, inplace=True)' or df[col] = df[col].method(value) instead, to perform the operation inplace on the original object.\n",
      "\n",
      "\n",
      "  df['store_and_fwd_flag'].replace(['N', 'Y'], [1, 2], inplace=True)\n",
      "C:\\Users\\William\\AppData\\Local\\Temp\\ipykernel_27180\\3064335696.py:3: FutureWarning: Downcasting behavior in `replace` is deprecated and will be removed in a future version. To retain the old behavior, explicitly call `result.infer_objects(copy=False)`. To opt-in to the future behavior, set `pd.set_option('future.no_silent_downcasting', True)`\n",
      "  df['store_and_fwd_flag'].replace(['N', 'Y'], [1, 2], inplace=True)\n"
     ]
    },
    {
     "data": {
      "text/html": [
       "<div>\n",
       "<style scoped>\n",
       "    .dataframe tbody tr th:only-of-type {\n",
       "        vertical-align: middle;\n",
       "    }\n",
       "\n",
       "    .dataframe tbody tr th {\n",
       "        vertical-align: top;\n",
       "    }\n",
       "\n",
       "    .dataframe thead th {\n",
       "        text-align: right;\n",
       "    }\n",
       "</style>\n",
       "<table border=\"1\" class=\"dataframe\">\n",
       "  <thead>\n",
       "    <tr style=\"text-align: right;\">\n",
       "      <th></th>\n",
       "      <th>vendorid</th>\n",
       "      <th>passenger_count</th>\n",
       "      <th>trip_distance</th>\n",
       "      <th>ratecodeid</th>\n",
       "      <th>store_and_fwd_flag</th>\n",
       "      <th>pulocationid</th>\n",
       "      <th>dolocationid</th>\n",
       "      <th>payment_type</th>\n",
       "      <th>fare_amount</th>\n",
       "      <th>extra</th>\n",
       "      <th>mta_tax</th>\n",
       "      <th>tip_amount</th>\n",
       "      <th>tolls_amount</th>\n",
       "      <th>improvement_surcharge</th>\n",
       "      <th>total_amount</th>\n",
       "      <th>congestion_surcharge</th>\n",
       "      <th>airport_fee</th>\n",
       "      <th>duration</th>\n",
       "    </tr>\n",
       "  </thead>\n",
       "  <tbody>\n",
       "    <tr>\n",
       "      <th>0</th>\n",
       "      <td>2</td>\n",
       "      <td>1.0</td>\n",
       "      <td>4.16</td>\n",
       "      <td>1.0</td>\n",
       "      <td>1</td>\n",
       "      <td>144</td>\n",
       "      <td>142</td>\n",
       "      <td>1</td>\n",
       "      <td>31.0</td>\n",
       "      <td>1.0</td>\n",
       "      <td>0.5</td>\n",
       "      <td>6.00</td>\n",
       "      <td>0.0</td>\n",
       "      <td>1.0</td>\n",
       "      <td>42.00</td>\n",
       "      <td>2.5</td>\n",
       "      <td>0.0</td>\n",
       "      <td>2116.0</td>\n",
       "    </tr>\n",
       "    <tr>\n",
       "      <th>1</th>\n",
       "      <td>2</td>\n",
       "      <td>1.0</td>\n",
       "      <td>1.03</td>\n",
       "      <td>1.0</td>\n",
       "      <td>1</td>\n",
       "      <td>144</td>\n",
       "      <td>79</td>\n",
       "      <td>1</td>\n",
       "      <td>10.0</td>\n",
       "      <td>1.0</td>\n",
       "      <td>0.5</td>\n",
       "      <td>2.00</td>\n",
       "      <td>0.0</td>\n",
       "      <td>1.0</td>\n",
       "      <td>17.00</td>\n",
       "      <td>2.5</td>\n",
       "      <td>0.0</td>\n",
       "      <td>549.0</td>\n",
       "    </tr>\n",
       "    <tr>\n",
       "      <th>2</th>\n",
       "      <td>2</td>\n",
       "      <td>2.0</td>\n",
       "      <td>0.62</td>\n",
       "      <td>1.0</td>\n",
       "      <td>1</td>\n",
       "      <td>230</td>\n",
       "      <td>186</td>\n",
       "      <td>2</td>\n",
       "      <td>-5.8</td>\n",
       "      <td>0.0</td>\n",
       "      <td>-0.5</td>\n",
       "      <td>0.00</td>\n",
       "      <td>0.0</td>\n",
       "      <td>-1.0</td>\n",
       "      <td>-9.80</td>\n",
       "      <td>-2.5</td>\n",
       "      <td>0.0</td>\n",
       "      <td>253.0</td>\n",
       "    </tr>\n",
       "    <tr>\n",
       "      <th>3</th>\n",
       "      <td>2</td>\n",
       "      <td>1.0</td>\n",
       "      <td>1.41</td>\n",
       "      <td>1.0</td>\n",
       "      <td>1</td>\n",
       "      <td>113</td>\n",
       "      <td>4</td>\n",
       "      <td>1</td>\n",
       "      <td>12.1</td>\n",
       "      <td>1.0</td>\n",
       "      <td>0.5</td>\n",
       "      <td>2.00</td>\n",
       "      <td>0.0</td>\n",
       "      <td>1.0</td>\n",
       "      <td>19.10</td>\n",
       "      <td>2.5</td>\n",
       "      <td>0.0</td>\n",
       "      <td>769.0</td>\n",
       "    </tr>\n",
       "    <tr>\n",
       "      <th>4</th>\n",
       "      <td>2</td>\n",
       "      <td>1.0</td>\n",
       "      <td>2.06</td>\n",
       "      <td>1.0</td>\n",
       "      <td>1</td>\n",
       "      <td>161</td>\n",
       "      <td>237</td>\n",
       "      <td>1</td>\n",
       "      <td>17.0</td>\n",
       "      <td>0.0</td>\n",
       "      <td>0.5</td>\n",
       "      <td>4.20</td>\n",
       "      <td>0.0</td>\n",
       "      <td>1.0</td>\n",
       "      <td>25.20</td>\n",
       "      <td>2.5</td>\n",
       "      <td>0.0</td>\n",
       "      <td>1110.0</td>\n",
       "    </tr>\n",
       "    <tr>\n",
       "      <th>...</th>\n",
       "      <td>...</td>\n",
       "      <td>...</td>\n",
       "      <td>...</td>\n",
       "      <td>...</td>\n",
       "      <td>...</td>\n",
       "      <td>...</td>\n",
       "      <td>...</td>\n",
       "      <td>...</td>\n",
       "      <td>...</td>\n",
       "      <td>...</td>\n",
       "      <td>...</td>\n",
       "      <td>...</td>\n",
       "      <td>...</td>\n",
       "      <td>...</td>\n",
       "      <td>...</td>\n",
       "      <td>...</td>\n",
       "      <td>...</td>\n",
       "      <td>...</td>\n",
       "    </tr>\n",
       "    <tr>\n",
       "      <th>49995</th>\n",
       "      <td>2</td>\n",
       "      <td>1.0</td>\n",
       "      <td>2.50</td>\n",
       "      <td>1.0</td>\n",
       "      <td>1</td>\n",
       "      <td>236</td>\n",
       "      <td>143</td>\n",
       "      <td>1</td>\n",
       "      <td>17.7</td>\n",
       "      <td>2.5</td>\n",
       "      <td>0.5</td>\n",
       "      <td>2.00</td>\n",
       "      <td>0.0</td>\n",
       "      <td>1.0</td>\n",
       "      <td>26.20</td>\n",
       "      <td>2.5</td>\n",
       "      <td>0.0</td>\n",
       "      <td>1166.0</td>\n",
       "    </tr>\n",
       "    <tr>\n",
       "      <th>49996</th>\n",
       "      <td>2</td>\n",
       "      <td>1.0</td>\n",
       "      <td>0.62</td>\n",
       "      <td>1.0</td>\n",
       "      <td>1</td>\n",
       "      <td>262</td>\n",
       "      <td>263</td>\n",
       "      <td>2</td>\n",
       "      <td>7.2</td>\n",
       "      <td>0.0</td>\n",
       "      <td>0.5</td>\n",
       "      <td>0.00</td>\n",
       "      <td>0.0</td>\n",
       "      <td>1.0</td>\n",
       "      <td>11.20</td>\n",
       "      <td>2.5</td>\n",
       "      <td>0.0</td>\n",
       "      <td>388.0</td>\n",
       "    </tr>\n",
       "    <tr>\n",
       "      <th>49997</th>\n",
       "      <td>1</td>\n",
       "      <td>1.0</td>\n",
       "      <td>1.90</td>\n",
       "      <td>1.0</td>\n",
       "      <td>1</td>\n",
       "      <td>237</td>\n",
       "      <td>164</td>\n",
       "      <td>2</td>\n",
       "      <td>21.2</td>\n",
       "      <td>2.5</td>\n",
       "      <td>0.5</td>\n",
       "      <td>0.00</td>\n",
       "      <td>0.0</td>\n",
       "      <td>1.0</td>\n",
       "      <td>25.20</td>\n",
       "      <td>2.5</td>\n",
       "      <td>0.0</td>\n",
       "      <td>1623.0</td>\n",
       "    </tr>\n",
       "    <tr>\n",
       "      <th>49998</th>\n",
       "      <td>2</td>\n",
       "      <td>1.0</td>\n",
       "      <td>1.24</td>\n",
       "      <td>1.0</td>\n",
       "      <td>1</td>\n",
       "      <td>162</td>\n",
       "      <td>170</td>\n",
       "      <td>1</td>\n",
       "      <td>14.9</td>\n",
       "      <td>0.0</td>\n",
       "      <td>0.5</td>\n",
       "      <td>2.00</td>\n",
       "      <td>0.0</td>\n",
       "      <td>1.0</td>\n",
       "      <td>20.90</td>\n",
       "      <td>2.5</td>\n",
       "      <td>0.0</td>\n",
       "      <td>987.0</td>\n",
       "    </tr>\n",
       "    <tr>\n",
       "      <th>49999</th>\n",
       "      <td>1</td>\n",
       "      <td>1.0</td>\n",
       "      <td>1.00</td>\n",
       "      <td>1.0</td>\n",
       "      <td>1</td>\n",
       "      <td>239</td>\n",
       "      <td>142</td>\n",
       "      <td>1</td>\n",
       "      <td>7.9</td>\n",
       "      <td>2.5</td>\n",
       "      <td>0.5</td>\n",
       "      <td>2.35</td>\n",
       "      <td>0.0</td>\n",
       "      <td>1.0</td>\n",
       "      <td>14.25</td>\n",
       "      <td>2.5</td>\n",
       "      <td>0.0</td>\n",
       "      <td>404.0</td>\n",
       "    </tr>\n",
       "  </tbody>\n",
       "</table>\n",
       "<p>45198 rows × 18 columns</p>\n",
       "</div>"
      ],
      "text/plain": [
       "       vendorid  passenger_count  trip_distance  ratecodeid  \\\n",
       "0             2              1.0           4.16         1.0   \n",
       "1             2              1.0           1.03         1.0   \n",
       "2             2              2.0           0.62         1.0   \n",
       "3             2              1.0           1.41         1.0   \n",
       "4             2              1.0           2.06         1.0   \n",
       "...         ...              ...            ...         ...   \n",
       "49995         2              1.0           2.50         1.0   \n",
       "49996         2              1.0           0.62         1.0   \n",
       "49997         1              1.0           1.90         1.0   \n",
       "49998         2              1.0           1.24         1.0   \n",
       "49999         1              1.0           1.00         1.0   \n",
       "\n",
       "       store_and_fwd_flag  pulocationid  dolocationid  payment_type  \\\n",
       "0                       1           144           142             1   \n",
       "1                       1           144            79             1   \n",
       "2                       1           230           186             2   \n",
       "3                       1           113             4             1   \n",
       "4                       1           161           237             1   \n",
       "...                   ...           ...           ...           ...   \n",
       "49995                   1           236           143             1   \n",
       "49996                   1           262           263             2   \n",
       "49997                   1           237           164             2   \n",
       "49998                   1           162           170             1   \n",
       "49999                   1           239           142             1   \n",
       "\n",
       "       fare_amount  extra  mta_tax  tip_amount  tolls_amount  \\\n",
       "0             31.0    1.0      0.5        6.00           0.0   \n",
       "1             10.0    1.0      0.5        2.00           0.0   \n",
       "2             -5.8    0.0     -0.5        0.00           0.0   \n",
       "3             12.1    1.0      0.5        2.00           0.0   \n",
       "4             17.0    0.0      0.5        4.20           0.0   \n",
       "...            ...    ...      ...         ...           ...   \n",
       "49995         17.7    2.5      0.5        2.00           0.0   \n",
       "49996          7.2    0.0      0.5        0.00           0.0   \n",
       "49997         21.2    2.5      0.5        0.00           0.0   \n",
       "49998         14.9    0.0      0.5        2.00           0.0   \n",
       "49999          7.9    2.5      0.5        2.35           0.0   \n",
       "\n",
       "       improvement_surcharge  total_amount  congestion_surcharge  airport_fee  \\\n",
       "0                        1.0         42.00                   2.5          0.0   \n",
       "1                        1.0         17.00                   2.5          0.0   \n",
       "2                       -1.0         -9.80                  -2.5          0.0   \n",
       "3                        1.0         19.10                   2.5          0.0   \n",
       "4                        1.0         25.20                   2.5          0.0   \n",
       "...                      ...           ...                   ...          ...   \n",
       "49995                    1.0         26.20                   2.5          0.0   \n",
       "49996                    1.0         11.20                   2.5          0.0   \n",
       "49997                    1.0         25.20                   2.5          0.0   \n",
       "49998                    1.0         20.90                   2.5          0.0   \n",
       "49999                    1.0         14.25                   2.5          0.0   \n",
       "\n",
       "       duration  \n",
       "0        2116.0  \n",
       "1         549.0  \n",
       "2         253.0  \n",
       "3         769.0  \n",
       "4        1110.0  \n",
       "...         ...  \n",
       "49995    1166.0  \n",
       "49996     388.0  \n",
       "49997    1623.0  \n",
       "49998     987.0  \n",
       "49999     404.0  \n",
       "\n",
       "[45198 rows x 18 columns]"
      ]
     },
     "execution_count": 3,
     "metadata": {},
     "output_type": "execute_result"
    }
   ],
   "source": [
    "df = df.dropna()\n",
    "\n",
    "df['store_and_fwd_flag'].replace(['N', 'Y'], [1, 2], inplace=True)\n",
    "\n",
    "# TODO: Fix drops\n",
    "df = df.drop('ID', axis=1)\n",
    "df = df.drop('vendorid', axis=1)\n",
    "df = df.drop('tpep_pickup_datetime', axis=1)\n",
    "df = df.drop('tpep_dropoff_datetime', axis=1)\n",
    "df = df.drop('payment_type', axis=1)\n",
    "\n",
    "df"
   ]
  },
  {
   "cell_type": "code",
   "execution_count": null,
   "metadata": {},
   "outputs": [],
   "source": [
    "numeric_columns = [\n",
    "    \"passenger_count\", \"trip_distance\", \"pulocationid\", \"dolocationid\",\n",
    "    \"ratecodeid\", \"fare_amount\", \"extra\", \"mta_tax\", \"improvement_surcharge\",\n",
    "    \"tip_amount\", \"tolls_amount\", \"total_amount\", \"congestion_surcharge\", \"airport_fee\", \"duration\"\n",
    "]\n",
    "\n",
    "for col in numeric_columns:\n",
    "    assert is_num(df[col])"
   ]
  },
  {
   "cell_type": "code",
   "execution_count": 5,
   "metadata": {},
   "outputs": [],
   "source": [
    "x = df.iloc[:, :-1]\n",
    "y = df[\"duration\"]\n",
    "\n",
    "x_train, x_test, y_train, y_test = train_test_split(x, y, test_size=0.2, random_state=42)"
   ]
  },
  {
   "cell_type": "code",
   "execution_count": 8,
   "metadata": {},
   "outputs": [
    {
     "name": "stdout",
     "output_type": "stream",
     "text": [
      "(45198, 17)\n",
      "(45198,)\n"
     ]
    }
   ],
   "source": [
    "print(x.shape)\n",
    "print(y.shape)"
   ]
  },
  {
   "cell_type": "code",
   "execution_count": 11,
   "metadata": {},
   "outputs": [
    {
     "name": "stdout",
     "output_type": "stream",
     "text": [
      "0.13036802139353887\n"
     ]
    }
   ],
   "source": [
    "lin_mod = LinearRegression()\n",
    "\n",
    "lin_mod.fit(x_train, y_train)\n",
    "\n",
    "y_pred_lin_mod = lin_mod.predict(x_test)\n",
    "\n",
    "print(r2_score(y_test, y_pred_lin_mod))"
   ]
  },
  {
   "cell_type": "code",
   "execution_count": 12,
   "metadata": {},
   "outputs": [],
   "source": [
    "n_cv = 2"
   ]
  },
  {
   "cell_type": "code",
   "execution_count": null,
   "metadata": {},
   "outputs": [
    {
     "name": "stderr",
     "output_type": "stream",
     "text": [
      "c:\\Users\\William\\anaconda3\\envs\\intro_ml_project\\Lib\\site-packages\\sklearn\\linear_model\\_logistic.py:465: ConvergenceWarning: lbfgs failed to converge (status=1):\n",
      "STOP: TOTAL NO. OF ITERATIONS REACHED LIMIT.\n",
      "\n",
      "Increase the number of iterations (max_iter) or scale the data as shown in:\n",
      "    https://scikit-learn.org/stable/modules/preprocessing.html\n",
      "Please also refer to the documentation for alternative solver options:\n",
      "    https://scikit-learn.org/stable/modules/linear_model.html#logistic-regression\n",
      "  n_iter_i = _check_optimize_result(\n"
     ]
    },
    {
     "name": "stdout",
     "output_type": "stream",
     "text": [
      "0.001991150442477876\n"
     ]
    }
   ],
   "source": [
    "# TODO: Fix, did not converge\n",
    "# maybe increase number of iterations\n",
    "# 4 min 12 sec\n",
    "log_mod = LogisticRegression()\n",
    "\n",
    "log_mod.fit(x_train, y_train)\n",
    "\n",
    "y_pred_log_mod = log_mod.predict(x_test)\n",
    "\n",
    "print(accuracy_score(y_test, y_pred_log_mod))"
   ]
  },
  {
   "cell_type": "code",
   "execution_count": 20,
   "metadata": {},
   "outputs": [
    {
     "name": "stdout",
     "output_type": "stream",
     "text": [
      "-0.014760371482169132\n"
     ]
    }
   ],
   "source": [
    "ranf_mod = RandomForestRegressor(random_state=42)\n",
    "\n",
    "# print(np.mean(cross_val_score(ranf_mod, x, y, cv=n_cv)))\n",
    "ranf_mod.fit(x_train, y_train)\n",
    "y_pred_ranf = ranf_mod.predict(x_test)\n",
    "# ranf_mod.score(x_test, y_test)\n",
    "\n",
    "print(r2_score(y_test, y_pred_ranf))"
   ]
  },
  {
   "cell_type": "code",
   "execution_count": null,
   "metadata": {},
   "outputs": [
    {
     "name": "stdout",
     "output_type": "stream",
     "text": [
      "0.07351720207891277\n"
     ]
    },
    {
     "data": {
      "text/plain": [
       "<matplotlib.collections.PathCollection at 0x17a8a98a1b0>"
      ]
     },
     "execution_count": 25,
     "metadata": {},
     "output_type": "execute_result"
    },
    {
     "data": {
      "image/png": "[encoded data removed]",
      "text/plain": [
       "<Figure size 640x480 with 1 Axes>"
      ]
     },
     "metadata": {},
     "output_type": "display_data"
    }
   ],
   "source": [
    "svr_mod = SVR()\n",
    "\n",
    "# print(np.mean(cross_val_score(svr_mod, x, y, cv=n_cv)))\n",
    "\n",
    "svr_mod.fit(x_train, y_train)\n",
    "y_pred_svr = svr_mod.predict(x_test)\n",
    "\n",
    "# print(svr_mod.score(x_test, y_test))\n",
    "\n",
    "print(r2_score(y_test, y_pred_svr))\n",
    "\n",
    "plt.scatter(y_test, y_pred_svr)"
   ]
  },
  {
   "cell_type": "code",
   "execution_count": null,
   "metadata": {},
   "outputs": [
    {
     "name": "stdout",
     "output_type": "stream",
     "text": [
      "-0.05505019221725149\n"
     ]
    },
    {
     "name": "stderr",
     "output_type": "stream",
     "text": [
      "c:\\Users\\William\\anaconda3\\envs\\intro_ml_project\\Lib\\site-packages\\sklearn\\svm\\_base.py:1249: ConvergenceWarning: Liblinear failed to converge, increase the number of iterations.\n",
      "  warnings.warn(\n"
     ]
    }
   ],
   "source": [
    "linsvr_mod = LinearSVR(random_state=42)\n",
    "\n",
    "# print(np.mean(cross_val_score(linsvr_mod, x, y, cv=n_cv)))\n",
    "\n",
    "linsvr_mod.fit(x_train, y_train)\n",
    "# y_pred_lin_svr = linsvr_mod.predict(x_test)\n",
    "\n",
    "# print(r2_score(y_test, y_pred_lin_svr))\n",
    "\n",
    "print(linsvr_mod.score())"
   ]
  },
  {
   "cell_type": "code",
   "execution_count": null,
   "metadata": {},
   "outputs": [],
   "source": [
    "kneigh_mod = KNeighborsRegressor()\n",
    "\n",
    "# print(np.mean(cross_val_score(kneigh_mod, x, y, cv=n_cv)))\n",
    "\n"
   ]
  },
  {
   "cell_type": "code",
   "execution_count": null,
   "metadata": {},
   "outputs": [],
   "source": [
    "tree_mod = DecisionTreeClassifier()\n",
    "\n",
    "print(np.mean(cross_val_score(tree_mod, x, y, cv=n_cv)))"
   ]
  }
 ],
 "metadata": {
  "kernelspec": {
   "display_name": "intro_ml_project",
   "language": "python",
   "name": "python3"
  },
  "language_info": {
   "codemirror_mode": {
    "name": "ipython",
    "version": 3
   },
   "file_extension": ".py",
   "mimetype": "text/x-python",
   "name": "python",
   "nbconvert_exporter": "python",
   "pygments_lexer": "ipython3",
   "version": "3.12.9"
  }
 },
 "nbformat": 4,
 "nbformat_minor": 2
}
